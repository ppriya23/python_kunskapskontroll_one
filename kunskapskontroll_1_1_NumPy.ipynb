{
 "cells": [
  {
   "cell_type": "markdown",
   "id": "dacf74e6",
   "metadata": {},
   "source": [
    "# NumPy"
   ]
  },
  {
   "cell_type": "markdown",
   "id": "01b2bf34",
   "metadata": {},
   "source": [
    "Read the links: https://numpy.org/doc/stable/user/quickstart.html  and https://numpy.org/doc/stable/user/basics.broadcasting.html  before solving the exercises. "
   ]
  },
  {
   "cell_type": "code",
   "execution_count": 578,
   "id": "1f79e4a6",
   "metadata": {},
   "outputs": [],
   "source": [
    "import numpy as np"
   ]
  },
  {
   "cell_type": "markdown",
   "id": "7dae6889",
   "metadata": {},
   "source": [
    "### Print out the dimension (number of axes), shape, size and the datatype of the matrix A."
   ]
  },
  {
   "cell_type": "code",
   "execution_count": 579,
   "id": "7b3678cd",
   "metadata": {},
   "outputs": [],
   "source": [
    "A = np.arange(1, 16).reshape(3,5)"
   ]
  },
  {
   "cell_type": "code",
   "execution_count": 580,
   "id": "31d39235",
   "metadata": {},
   "outputs": [
    {
     "data": {
      "text/plain": [
       "array([[ 1,  2,  3,  4,  5],\n",
       "       [ 6,  7,  8,  9, 10],\n",
       "       [11, 12, 13, 14, 15]])"
      ]
     },
     "execution_count": 580,
     "metadata": {},
     "output_type": "execute_result"
    }
   ],
   "source": [
    "A"
   ]
  },
  {
   "cell_type": "code",
   "execution_count": 581,
   "id": "5e1d1530",
   "metadata": {},
   "outputs": [
    {
     "name": "stdout",
     "output_type": "stream",
     "text": [
      "2\n",
      "(3, 5)\n",
      "15\n",
      "int64\n"
     ]
    }
   ],
   "source": [
    "print(A.ndim)\n",
    "print(A.shape)\n",
    "print(A.size)\n",
    "print(A.dtype)"
   ]
  },
  {
   "cell_type": "markdown",
   "id": "e56d2a96",
   "metadata": {},
   "source": [
    "### Do the following computations on the matrices B and C: \n",
    "* Elementwise subtraction. \n",
    "* Elementwise multiplication. \n",
    "* Matrix multiplication (by default you should use the @ operator)."
   ]
  },
  {
   "cell_type": "code",
   "execution_count": 582,
   "id": "a7053fbb",
   "metadata": {},
   "outputs": [
    {
     "name": "stdout",
     "output_type": "stream",
     "text": [
      "[[1 2 3]\n",
      " [4 5 6]\n",
      " [7 8 9]]\n",
      "\n",
      "[[2. 2. 2.]\n",
      " [2. 2. 2.]\n",
      " [2. 2. 2.]]\n"
     ]
    }
   ],
   "source": [
    "B = np.arange(1, 10).reshape(3, 3)\n",
    "C = np.ones((3, 3))*2\n",
    "\n",
    "print(B)\n",
    "print()\n",
    "print(C)"
   ]
  },
  {
   "cell_type": "code",
   "execution_count": 583,
   "id": "3cd794ae",
   "metadata": {},
   "outputs": [
    {
     "name": "stdout",
     "output_type": "stream",
     "text": [
      "[[-1.  0.  1.]\n",
      " [ 2.  3.  4.]\n",
      " [ 5.  6.  7.]]\n",
      "\n",
      "[[ 2.  4.  6.]\n",
      " [ 8. 10. 12.]\n",
      " [14. 16. 18.]]\n",
      "\n",
      "[[12. 12. 12.]\n",
      " [30. 30. 30.]\n",
      " [48. 48. 48.]]\n",
      "\n"
     ]
    }
   ],
   "source": [
    "print(B - C)  # Elementwise substraction\n",
    "print()\n",
    "print(B * C)  # Elementwise multiplication\n",
    "print()\n",
    "print(B @ C)  # Matrix multiplication( using @ operator)\n",
    "print()"
   ]
  },
  {
   "cell_type": "markdown",
   "id": "96030d53",
   "metadata": {},
   "source": [
    "### Do the following calculations on the matrix:\n",
    "* Exponentiate each number elementwise (use the np.exp function).\n",
    "\n",
    "* Calculate the minimum value in the whole matrix. \n",
    "* Calculcate the minimum value in each row. \n",
    "* Calculcate the minimum value in each column. \n",
    "\n",
    "\n",
    "* Find the index value for the minimum value in the whole matrix (hint: use np.argmin).\n",
    "* Find the index value for the minimum value in each row (hint: use np.argmin).\n",
    "\n",
    "\n",
    "* Calculate the sum for all elements.\n",
    "* Calculate the mean for each column. \n",
    "* Calculate the median for each column. "
   ]
  },
  {
   "cell_type": "code",
   "execution_count": 584,
   "id": "f8a9166b",
   "metadata": {},
   "outputs": [
    {
     "name": "stdout",
     "output_type": "stream",
     "text": [
      "[[1 2 3]\n",
      " [4 5 6]\n",
      " [7 8 9]]\n"
     ]
    }
   ],
   "source": [
    "B = np.arange(1, 10).reshape(3, 3)\n",
    "print(B)"
   ]
  },
  {
   "cell_type": "code",
   "execution_count": 585,
   "id": "f03f24f7",
   "metadata": {},
   "outputs": [
    {
     "name": "stdout",
     "output_type": "stream",
     "text": [
      "[[2.71828183e+00 7.38905610e+00 2.00855369e+01]\n",
      " [5.45981500e+01 1.48413159e+02 4.03428793e+02]\n",
      " [1.09663316e+03 2.98095799e+03 8.10308393e+03]]\n",
      "1\n",
      "[1 4 7]\n",
      "[1 2 3]\n",
      "0\n",
      "[0 0 0]\n",
      "45\n",
      "[4. 5. 6.]\n",
      "[4. 5. 6.]\n"
     ]
    }
   ],
   "source": [
    "print(np.exp(B))\n",
    "print(np.min(B)) # minimum value in whole matrix\n",
    "print(B.min(axis = 1))  # minimum value in each row\n",
    "print(B.min(axis = 0))  # minimum value in each column\n",
    "print(np.argmin(B))\n",
    "print(np.argmin(B, axis = 1)) # minimun value in each row\n",
    "print(np.sum(B))\n",
    "print(np.mean(B, axis = 0)) # mean for each column\n",
    "print(np.median(B, axis = 0)) # median for each column\n",
    "\n",
    "\n",
    "\n"
   ]
  },
  {
   "cell_type": "markdown",
   "id": "541eb7ba",
   "metadata": {},
   "source": [
    "### What does it mean when you provide fewer indices than axes when slicing? See example below."
   ]
  },
  {
   "cell_type": "code",
   "execution_count": 586,
   "id": "9c8abf56",
   "metadata": {},
   "outputs": [
    {
     "name": "stdout",
     "output_type": "stream",
     "text": [
      "[[ 1  2  3  4  5]\n",
      " [ 6  7  8  9 10]\n",
      " [11 12 13 14 15]]\n"
     ]
    }
   ],
   "source": [
    "A = np.arange(1, 16).reshape(3,5)\n",
    "print(A)"
   ]
  },
  {
   "cell_type": "code",
   "execution_count": 587,
   "id": "69415f7b",
   "metadata": {},
   "outputs": [
    {
     "data": {
      "text/plain": [
       "array([ 6,  7,  8,  9, 10])"
      ]
     },
     "execution_count": 587,
     "metadata": {},
     "output_type": "execute_result"
    }
   ],
   "source": [
    "A[1]"
   ]
  },
  {
   "cell_type": "markdown",
   "id": "6c53541b",
   "metadata": {},
   "source": [
    "**Answer:**"
   ]
  },
  {
   "cell_type": "markdown",
   "id": "857daa10",
   "metadata": {},
   "source": [
    "#Answer:\n",
    "NumPy interprets this as taking a full slice (i.e., :) along the remaining dimensions."
   ]
  },
  {
   "cell_type": "markdown",
   "id": "6652d0c9",
   "metadata": {},
   "source": [
    "### Iterating over multidimensional arrays is done with respect to the first axis, so in the example below we iterate trough the rows. If you would like to iterate through the array *elementwise*, how would you do that?"
   ]
  },
  {
   "cell_type": "code",
   "execution_count": 588,
   "id": "9459864f",
   "metadata": {},
   "outputs": [
    {
     "data": {
      "text/plain": [
       "array([[ 1,  2,  3,  4,  5],\n",
       "       [ 6,  7,  8,  9, 10],\n",
       "       [11, 12, 13, 14, 15]])"
      ]
     },
     "execution_count": 588,
     "metadata": {},
     "output_type": "execute_result"
    }
   ],
   "source": [
    "A"
   ]
  },
  {
   "cell_type": "code",
   "execution_count": 589,
   "id": "a671bb5a",
   "metadata": {},
   "outputs": [
    {
     "name": "stdout",
     "output_type": "stream",
     "text": [
      "[1 2 3 4 5]\n",
      "[ 6  7  8  9 10]\n",
      "[11 12 13 14 15]\n"
     ]
    }
   ],
   "source": [
    "for i in A:\n",
    "    print(i)"
   ]
  },
  {
   "cell_type": "code",
   "execution_count": 590,
   "id": "f4e443a0",
   "metadata": {},
   "outputs": [
    {
     "name": "stdout",
     "output_type": "stream",
     "text": [
      "1\n",
      "2\n",
      "3\n",
      "4\n",
      "5\n",
      "6\n",
      "7\n",
      "8\n",
      "9\n",
      "10\n",
      "11\n",
      "12\n",
      "13\n",
      "14\n",
      "15\n"
     ]
    }
   ],
   "source": [
    "# Iterate through the array elementwise.\n",
    "\n",
    "for element in A.flat:\n",
    "    print(element)"
   ]
  },
  {
   "cell_type": "markdown",
   "id": "608a2583",
   "metadata": {},
   "source": [
    "### Explain what the code below does. More specifically, b has three axes - what does this mean? "
   ]
  },
  {
   "cell_type": "code",
   "execution_count": 591,
   "id": "f8f9b26f",
   "metadata": {},
   "outputs": [
    {
     "name": "stdout",
     "output_type": "stream",
     "text": [
      "[ 0  1  2  3  4  5  6  7  8  9 10 11 12 13 14 15 16 17 18 19 20 21 22 23\n",
      " 24 25 26 27 28 29]\n",
      "\n",
      "[[[ 0  1  2  3  4]\n",
      "  [ 5  6  7  8  9]\n",
      "  [10 11 12 13 14]]\n",
      "\n",
      " [[15 16 17 18 19]\n",
      "  [20 21 22 23 24]\n",
      "  [25 26 27 28 29]]]\n"
     ]
    }
   ],
   "source": [
    "a = np.arange(30)\n",
    "b = a.reshape((2, 3, -1))\n",
    "print(a)\n",
    "print()\n",
    "\n",
    "print(b)"
   ]
  },
  {
   "cell_type": "markdown",
   "id": "93dcb7d3",
   "metadata": {},
   "source": [
    "# Answer: \n",
    "a is one dimensional array with 30 elements from 0 to 29.\n",
    "b is 3 axes. 1st axis: 2 refers to the blocks, 2nd axis: 3 refers to the row and 3rd axis: -1 refers to the column which is 5, calucation by numpy as numpy automatically interfer the size based on total no of elements. "
   ]
  },
  {
   "cell_type": "markdown",
   "id": "ab5933d5",
   "metadata": {},
   "source": [
    "### Broadcasting\n",
    "**Read the following link about broadcasting: https://numpy.org/doc/stable/user/basics.broadcasting.html#basics-broadcasting**"
   ]
  },
  {
   "cell_type": "markdown",
   "id": "039805ba",
   "metadata": {},
   "source": [
    "# Remark on Broadcasting when doing Linear Algebra calculations in Python. "
   ]
  },
  {
   "cell_type": "markdown",
   "id": "c4bcc147",
   "metadata": {},
   "source": [
    "### From the mathematical rules of matrix addition, the operation below (m1 + m2) does not make sense. The reason is that matrix addition requires two matrices of the same size. In Python however, it works due to broadcasting rules in NumPy. So you must be careful when doing Linear Algebra calculations in Python since they do not follow the \"mathematical rules\". This can however easily be handled by doing some simple programming, for example validating that two matrices have the same shape is easy if you for instance want to add two matrices. "
   ]
  },
  {
   "cell_type": "code",
   "execution_count": 592,
   "id": "1fd46778",
   "metadata": {},
   "outputs": [
    {
     "name": "stdout",
     "output_type": "stream",
     "text": [
      "[[2 3]\n",
      " [4 5]]\n"
     ]
    }
   ],
   "source": [
    "m1 = np.array([[1, 2], [3, 4]])\n",
    "m2 = np.array([1, 1])\n",
    "print(m1 + m2)"
   ]
  },
  {
   "cell_type": "code",
   "execution_count": 593,
   "id": "d6883a96",
   "metadata": {},
   "outputs": [
    {
     "name": "stdout",
     "output_type": "stream",
     "text": [
      "(2, 2)\n",
      "(2,)\n"
     ]
    }
   ],
   "source": [
    "print(m1.shape)\n",
    "print(m2.shape)"
   ]
  },
  {
   "cell_type": "markdown",
   "id": "047d6576",
   "metadata": {},
   "source": [
    "### The example below would also not be allowed if following the \"mathematical rules\" in Linear Algebra. But it works due to broadcasting in NumPy. "
   ]
  },
  {
   "cell_type": "code",
   "execution_count": 594,
   "id": "5e6ef2e4",
   "metadata": {},
   "outputs": [
    {
     "name": "stdout",
     "output_type": "stream",
     "text": [
      "[2 3 4]\n"
     ]
    }
   ],
   "source": [
    "v1 = np.array([1, 2, 3])\n",
    "print(v1 + 1)"
   ]
  },
  {
   "cell_type": "code",
   "execution_count": 595,
   "id": "e2cbae26",
   "metadata": {},
   "outputs": [
    {
     "name": "stdout",
     "output_type": "stream",
     "text": [
      "[[1 2]\n",
      " [3 4]]\n",
      "[2 2]\n",
      "[[3 4]\n",
      " [5 6]]\n"
     ]
    }
   ],
   "source": [
    "A = np.arange(1, 5).reshape(2,2)\n",
    "print(A)\n",
    "\n",
    "b = np.array([2, 2])\n",
    "print(b)\n",
    "\n",
    "print(A+b)"
   ]
  },
  {
   "cell_type": "markdown",
   "id": "722fd5cd",
   "metadata": {},
   "source": [
    "# Vector- and matrix algebra Exercises"
   ]
  },
  {
   "cell_type": "markdown",
   "id": "b63a3081-d976-4d9f-bfd0-a63917e79f7d",
   "metadata": {},
   "source": [
    "**Now you are going to create a function that can be reused every time you add or multiply matrices. The function is created so that we do the addition and multiplication according to the rules of vector- and matrix algebra.**\n",
    "\n",
    "**Create a function \"add_mult_matrices\" that takes two matrices as input arguments (validate that the input are of the type numpy.ndarray by using the isinstance function), a third argument that is either 'add' or 'multiply' that specifies if you want to add or multiply the matrices (validate that the third argument is either 'add' or 'multiply'). When doing matrix addition, validate that the matrices have the same size. When doing matrix multiplication, validate that the sizes conform (i.e. number of columns in the first matrix is equal to the number of rows in the second matrix).**"
   ]
  },
  {
   "cell_type": "code",
   "execution_count": 596,
   "id": "3506f977-ac0a-473f-85bc-eec9f35dc498",
   "metadata": {},
   "outputs": [],
   "source": [
    "def add_mult_matrices(A, B, add_or_multiply):\n",
    "    \n",
    "    # Validate that the input are of the type np.ndarray\n",
    "    if not (isinstance(A, np.ndarray) and isinstance(B, np.ndarray)):\n",
    "        print('Provide two matrices type of np.ndarray')\n",
    "        \n",
    "    #When doing the matrix addition\n",
    "    if add_or_multiply == 'add': \n",
    "        if A.shape != B.shape:\n",
    "            print('Matrices must have same size')\n",
    "        else:\n",
    "            return A + B   \n",
    "    \n",
    "    #When doing the matrix multiplication\n",
    "    elif add_or_multiply == 'multiply':\n",
    "        if A.shape[1] != B.shape[0]:\n",
    "            print('Number of columns in the first matrix must be equal to number of rows in the second matrix')\n",
    "        else:\n",
    "            return A @ B\n",
    "    \n",
    "    else:  \n",
    "        print(\"Choose either 'add' or 'multiply'.\")     \n",
    "\n"
   ]
  },
  {
   "cell_type": "markdown",
   "id": "8dad82d0-2359-4dff-8f5b-a57d3e34103c",
   "metadata": {},
   "source": [
    "### Solve all the exercises in chapter 10.1 in the book \"Matematik för yrkeshögskolan\". "
   ]
  },
  {
   "cell_type": "code",
   "execution_count": 597,
   "id": "89df88af-3668-4d98-a0a4-e6d92eea0f89",
   "metadata": {},
   "outputs": [
    {
     "name": "stdout",
     "output_type": "stream",
     "text": [
      "[4 3]\n",
      "1\n",
      "(2,)\n",
      "\n",
      "[20 15]\n",
      "\n",
      "[12  9]\n",
      "\n",
      "[32 24]\n",
      "\n",
      "[32 24]\n",
      "\n",
      "[12  9]\n"
     ]
    }
   ],
   "source": [
    "#Uppgift 10.1.1\n",
    "\n",
    "x = np.array([4, 3])\n",
    "print(x)\n",
    "\n",
    "\n",
    "print(x.ndim) # Dimension of vektor\n",
    "print(x.shape)\n",
    "print()\n",
    "\n",
    "#Beräkna 5x, 3x, 5x + 3x, 8x, 4x - x\n",
    "\n",
    "multi_5 = 5 * x  \n",
    "print(multi_5)\n",
    "print()\n",
    "\n",
    "multi_3 = 3 * x\n",
    "print(multi_3)\n",
    "print()\n",
    "\n",
    "print(add_mult_matrices(5 * x, 3 * x, 'add'))  #Beräkna 5x + 3x using function\n",
    "print()\n",
    "\n",
    "multi_8 = 8 * x\n",
    "print(multi_8)\n",
    "print()\n",
    "\n",
    "\n",
    "print(add_mult_matrices(4 * x, -x, 'add')) #Beräkna (4x - x)\n",
    "\n"
   ]
  },
  {
   "cell_type": "code",
   "execution_count": 598,
   "id": "5dcd8e87",
   "metadata": {},
   "outputs": [
    {
     "name": "stdout",
     "output_type": "stream",
     "text": [
      "[[4]\n",
      " [3]]\n"
     ]
    }
   ],
   "source": [
    "x_T = x.reshape(-1,1) #Beräkna x^T\n",
    "print(x_T)\n",
    "\n"
   ]
  },
  {
   "cell_type": "code",
   "execution_count": 599,
   "id": "4261a45f",
   "metadata": {},
   "outputs": [
    {
     "name": "stdout",
     "output_type": "stream",
     "text": [
      "Matrices must have same size\n",
      "None\n"
     ]
    }
   ],
   "source": [
    "print(add_mult_matrices(x, x_T, 'add')) #Beräkna x + x^T"
   ]
  },
  {
   "cell_type": "code",
   "execution_count": 600,
   "id": "2ed96dcc",
   "metadata": {},
   "outputs": [
    {
     "name": "stdout",
     "output_type": "stream",
     "text": [
      "5.0\n"
     ]
    }
   ],
   "source": [
    "norm_x = np.linalg.norm(x) #Beräkna ||x||\n",
    "print(norm_x)"
   ]
  },
  {
   "cell_type": "code",
   "execution_count": 601,
   "id": "33f4c3a3",
   "metadata": {},
   "outputs": [
    {
     "name": "stdout",
     "output_type": "stream",
     "text": [
      "[ 3  7  0 11]\n",
      "[[ 3]\n",
      " [ 7]\n",
      " [ 0]\n",
      " [11]]\n"
     ]
    }
   ],
   "source": [
    "# uppgift 10.1.2\n",
    "\n",
    "v1 = np.array([3, 7, 0, 11])\n",
    "print(v1)\n",
    "\n",
    "\n",
    "v = v1.reshape(-1,1)\n",
    "print(v)\n",
    "\n"
   ]
  },
  {
   "cell_type": "code",
   "execution_count": 602,
   "id": "8fbc119b",
   "metadata": {},
   "outputs": [
    {
     "name": "stdout",
     "output_type": "stream",
     "text": [
      "2\n",
      "(4, 1)\n"
     ]
    }
   ],
   "source": [
    "print(v.ndim) # dimension\n",
    "print(v.shape) # shape\n"
   ]
  },
  {
   "cell_type": "code",
   "execution_count": 603,
   "id": "ecd87142",
   "metadata": {},
   "outputs": [
    {
     "name": "stdout",
     "output_type": "stream",
     "text": [
      "[[ 6]\n",
      " [14]\n",
      " [ 0]\n",
      " [22]]\n"
     ]
    }
   ],
   "source": [
    "vmulti_2 = 2 * v #Beräkna 2v\n",
    "print(vmulti_2)"
   ]
  },
  {
   "cell_type": "code",
   "execution_count": 604,
   "id": "771012c7",
   "metadata": {},
   "outputs": [
    {
     "name": "stdout",
     "output_type": "stream",
     "text": [
      "[[21]\n",
      " [49]\n",
      " [ 0]\n",
      " [77]]\n"
     ]
    }
   ],
   "source": [
    "print(add_mult_matrices(5 * v, 2 * v, 'add'))  #Beräkna 5v + 2v\n"
   ]
  },
  {
   "cell_type": "code",
   "execution_count": 605,
   "id": "062cfb8a",
   "metadata": {},
   "outputs": [
    {
     "name": "stdout",
     "output_type": "stream",
     "text": [
      "[[ 6]\n",
      " [14]\n",
      " [ 0]\n",
      " [22]]\n"
     ]
    }
   ],
   "source": [
    "print(add_mult_matrices(4 * v, -2 * v, 'add'))  #Beräkna 4v - 2v\n"
   ]
  },
  {
   "cell_type": "code",
   "execution_count": 606,
   "id": "1fe0acd3",
   "metadata": {},
   "outputs": [
    {
     "name": "stdout",
     "output_type": "stream",
     "text": [
      "[ 3  7  0 11]\n",
      "13.379088160259652\n"
     ]
    }
   ],
   "source": [
    "print(v1) #v^T which is v1\n",
    "\n",
    "norm_v = np.linalg.norm(v)  #Beräkna ||v||\n",
    "print(norm_v)"
   ]
  },
  {
   "cell_type": "code",
   "execution_count": 607,
   "id": "d6227647",
   "metadata": {},
   "outputs": [
    {
     "name": "stdout",
     "output_type": "stream",
     "text": [
      "7.14142842854285\n",
      "4.47213595499958\n"
     ]
    }
   ],
   "source": [
    "#uppgift 10.1.3\n",
    "v1 = np.array([4, 3, 1, 5])\n",
    "v2 = np.array([2, 3, 1, 1])\n",
    "v3 = v1 - v2\n",
    "\n",
    "norm_v1 = np.linalg.norm(v1)  #Beräkna ||v1||\n",
    "print(norm_v1)\n",
    "\n",
    "norm_v3 = np.linalg.norm(v3) #Beräkna ||v1 -v2||\n",
    "print(norm_v3)\n",
    "\n",
    "  "
   ]
  },
  {
   "cell_type": "markdown",
   "id": "75c98984-1f88-4df1-b850-d2466de444a5",
   "metadata": {},
   "source": [
    "### Solve all the exercises, except 10.2.4, in chapter 10.2 in the book \"Matematik för yrkeshögskolan\". "
   ]
  },
  {
   "cell_type": "code",
   "execution_count": 608,
   "id": "65371610-16e1-48b2-b7fb-65e49002608a",
   "metadata": {},
   "outputs": [
    {
     "name": "stdout",
     "output_type": "stream",
     "text": [
      "[[ 4  2 -2]\n",
      " [ 2 -2  2]]\n"
     ]
    }
   ],
   "source": [
    "A = np.array([[2, 1, -1], [1, -1, 1]])\n",
    "B = np.array([[4, -2, 1], [2, -4, -2]])\n",
    "\n",
    "C = np.array([[1, 2], [2, 1]])\n",
    "D = np.array([[3, 4], [4, 3]])\n",
    "E = np.array([1,2])\n",
    "I = np.array([[1,0], [0,1]])\n",
    "\n",
    "\n",
    "multi_2A = 2 * A  # Beräkna 2A\n",
    "print(multi_2A)\n",
    "\n"
   ]
  },
  {
   "cell_type": "code",
   "execution_count": 609,
   "id": "78a5a0f1",
   "metadata": {},
   "outputs": [
    {
     "name": "stdout",
     "output_type": "stream",
     "text": [
      "[[ 0 -4  3]\n",
      " [ 0 -2 -4]]\n"
     ]
    }
   ],
   "source": [
    "print(add_mult_matrices(B, -2 * A, 'add'))  # B-2A"
   ]
  },
  {
   "cell_type": "code",
   "execution_count": 610,
   "id": "2c44ee2a",
   "metadata": {},
   "outputs": [
    {
     "name": "stdout",
     "output_type": "stream",
     "text": [
      "Matrices must have same size\n",
      "None\n"
     ]
    }
   ],
   "source": [
    "print(add_mult_matrices(3 * C, -2 * E, 'add'))  #3C - 2E"
   ]
  },
  {
   "cell_type": "code",
   "execution_count": 611,
   "id": "67b17889",
   "metadata": {},
   "outputs": [
    {
     "name": "stdout",
     "output_type": "stream",
     "text": [
      "[[3 2]\n",
      " [2 3]]\n"
     ]
    }
   ],
   "source": [
    "print(add_mult_matrices(2 * D, -3 * C, 'add')) #2D - 3C\n"
   ]
  },
  {
   "cell_type": "code",
   "execution_count": 612,
   "id": "b9c2a52d",
   "metadata": {},
   "outputs": [
    {
     "name": "stdout",
     "output_type": "stream",
     "text": [
      "[[ 9 12]\n",
      " [12  9]]\n"
     ]
    }
   ],
   "source": [
    "D_T = D.transpose()\n",
    "print(add_mult_matrices(D_T, 2 * D, 'add'))  #D^T + 2D\n"
   ]
  },
  {
   "cell_type": "code",
   "execution_count": 613,
   "id": "8a47a137",
   "metadata": {},
   "outputs": [
    {
     "name": "stdout",
     "output_type": "stream",
     "text": [
      "[[-4 -4]\n",
      " [-4 -4]]\n"
     ]
    }
   ],
   "source": [
    "C_T = C.transpose()\n",
    "print(add_mult_matrices((2 * C_T), (-2 * D_T), 'add'))  #2C^T - 2D^T"
   ]
  },
  {
   "cell_type": "code",
   "execution_count": 614,
   "id": "f210496c",
   "metadata": {},
   "outputs": [
    {
     "name": "stdout",
     "output_type": "stream",
     "text": [
      "Matrices must have same size\n",
      "None\n"
     ]
    }
   ],
   "source": [
    "A_T = A.transpose()\n",
    "print(add_mult_matrices(A_T, -B, 'add')) #A^T - B"
   ]
  },
  {
   "cell_type": "code",
   "execution_count": 615,
   "id": "f295d569",
   "metadata": {},
   "outputs": [
    {
     "name": "stdout",
     "output_type": "stream",
     "text": [
      "Number of columns in the first matrix must be equal to number of rows in the second matrix\n",
      "None\n"
     ]
    }
   ],
   "source": [
    "print(add_mult_matrices(A, C, 'multiply'))  #Beräkna AC"
   ]
  },
  {
   "cell_type": "code",
   "execution_count": 616,
   "id": "8a95957d",
   "metadata": {},
   "outputs": [
    {
     "name": "stdout",
     "output_type": "stream",
     "text": [
      "[[11 10]\n",
      " [10 11]]\n"
     ]
    }
   ],
   "source": [
    "print(add_mult_matrices(C, D, 'multiply'))  #Beräkna CD\n",
    "\n"
   ]
  },
  {
   "cell_type": "code",
   "execution_count": 617,
   "id": "6be349d1",
   "metadata": {},
   "outputs": [
    {
     "name": "stdout",
     "output_type": "stream",
     "text": [
      "[[  8 -10  -3]\n",
      " [ 10  -8   0]]\n"
     ]
    }
   ],
   "source": [
    "print(add_mult_matrices(C, B, 'multiply'))  #Beräkna CB\n"
   ]
  },
  {
   "cell_type": "code",
   "execution_count": 618,
   "id": "67e7b8d1",
   "metadata": {},
   "outputs": [
    {
     "name": "stdout",
     "output_type": "stream",
     "text": [
      "[[1 2]\n",
      " [2 1]]\n"
     ]
    }
   ],
   "source": [
    "print(add_mult_matrices(C, I, 'multiply'))   #Beräkna CI\n"
   ]
  },
  {
   "cell_type": "code",
   "execution_count": 619,
   "id": "8d9c769f",
   "metadata": {},
   "outputs": [
    {
     "name": "stdout",
     "output_type": "stream",
     "text": [
      "[[5 2]\n",
      " [7 4]]\n"
     ]
    }
   ],
   "source": [
    "B_T = B.transpose()\n",
    "print(add_mult_matrices(A, B_T, 'multiply'))  #Beräkna AB^T\n"
   ]
  },
  {
   "cell_type": "code",
   "execution_count": 620,
   "id": "e2d95941",
   "metadata": {},
   "outputs": [
    {
     "name": "stdout",
     "output_type": "stream",
     "text": [
      "[[29 26]\n",
      " [26 42]]\n"
     ]
    }
   ],
   "source": [
    "#Uppgift 10.2.2\n",
    "\n",
    "A = np.array([[2, 3, 4], [5, 4, 1]])\n",
    "A_T = A.transpose()\n",
    "print(add_mult_matrices(A, A_T, 'multiply'))  #Beräkna AA^T\n",
    "\n",
    "\n"
   ]
  },
  {
   "cell_type": "code",
   "execution_count": 621,
   "id": "09f676c3",
   "metadata": {},
   "outputs": [
    {
     "name": "stdout",
     "output_type": "stream",
     "text": [
      "AB: \n",
      " [[ 4  7]\n",
      " [ 8 14]]\n",
      "AC: \n",
      " [[ 4  7]\n",
      " [ 8 14]]\n",
      "True\n",
      "True\n"
     ]
    }
   ],
   "source": [
    "#uppgift 10.2.3\n",
    "\n",
    "A = np.array([[1, 2], [2,4]])\n",
    "B = np.array([[2, 1], [1, 3]])\n",
    "C = np.array([[4, 3], [0, 2]])\n",
    "\n",
    "AB = A @ B\n",
    "AC = A @ C\n",
    "\n",
    "# Verifiera AB = AC using the function\n",
    "\n",
    "print(f'AB:','\\n', add_mult_matrices(A, B, 'multiply'))\n",
    "\n",
    "print(f'AC:', '\\n', add_mult_matrices(A, C, 'multiply'))\n",
    "\n",
    "print(AB.all() == AC.all())\n",
    "print((B != C).all())\n"
   ]
  },
  {
   "cell_type": "markdown",
   "id": "6a4a524f",
   "metadata": {},
   "source": [
    "### Copies and Views\n",
    "Read the following link: https://numpy.org/doc/stable/user/basics.copies.html"
   ]
  },
  {
   "cell_type": "markdown",
   "id": "6cbbeaf7",
   "metadata": {},
   "source": [
    "**Basic indexing creates a view, How can you check if v1 and v2 is a view or copy? If you change the last element in v2 to 123, will the last element in v1 be changed? Why?**"
   ]
  },
  {
   "cell_type": "code",
   "execution_count": 622,
   "id": "5b9ef4df",
   "metadata": {},
   "outputs": [
    {
     "name": "stdout",
     "output_type": "stream",
     "text": [
      "[0 1 2 3]\n",
      "[2 3]\n"
     ]
    }
   ],
   "source": [
    "v1 = np.arange(4)\n",
    "v2 = v1[-2:]\n",
    "print(v1)\n",
    "print(v2)"
   ]
  },
  {
   "cell_type": "markdown",
   "id": "eb40bdb3",
   "metadata": {},
   "source": [
    "# Answer:\n",
    "  v2 is a view of v1 because the basic slicing on  (v1[-2:]). \n",
    "If I change the last element in v2 to 123, the last element in v1 be changed because both array share the same data memory."
   ]
  },
  {
   "cell_type": "code",
   "execution_count": 623,
   "id": "d2440489",
   "metadata": {},
   "outputs": [
    {
     "name": "stdout",
     "output_type": "stream",
     "text": [
      "None\n",
      "[0 1 2 3]\n"
     ]
    }
   ],
   "source": [
    "# The base attribute of a view returns the original array while it returns None for a copy.\n",
    "print(v1.base)\n",
    "print(v2.base)"
   ]
  },
  {
   "cell_type": "code",
   "execution_count": 624,
   "id": "c8752807",
   "metadata": {},
   "outputs": [
    {
     "name": "stdout",
     "output_type": "stream",
     "text": [
      "[  0   1   2 123]\n",
      "[  2 123]\n"
     ]
    }
   ],
   "source": [
    "# The last element in v1 will be changed aswell since v2 is a view, meaning they share the same data buffer.\n",
    "v2[-1] = 123\n",
    "print(v1)\n",
    "print(v2)"
   ]
  },
  {
   "cell_type": "code",
   "execution_count": null,
   "id": "3dd68221",
   "metadata": {},
   "outputs": [],
   "source": []
  }
 ],
 "metadata": {
  "kernelspec": {
   "display_name": "base",
   "language": "python",
   "name": "python3"
  },
  "language_info": {
   "codemirror_mode": {
    "name": "ipython",
    "version": 3
   },
   "file_extension": ".py",
   "mimetype": "text/x-python",
   "name": "python",
   "nbconvert_exporter": "python",
   "pygments_lexer": "ipython3",
   "version": "3.12.4"
  }
 },
 "nbformat": 4,
 "nbformat_minor": 5
}
